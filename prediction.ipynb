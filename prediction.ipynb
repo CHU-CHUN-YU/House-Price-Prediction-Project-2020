{
 "cells": [
  {
   "cell_type": "code",
   "execution_count": 142,
   "metadata": {},
   "outputs": [],
   "source": [
    "import os, time, glob, socket\n",
    "import pandas as pd\n",
    "import numpy as np\n",
    "import matplotlib.pyplot as plt\n",
    "import random\n",
    "import pickle\n",
    "random.seed(123)\n",
    "from sklearn.linear_model import Lasso\n",
    "import seaborn as sns\n",
    "from sklearn.decomposition import PCA \n",
    "from sklearn.preprocessing import StandardScaler\n",
    "from sklearn.model_selection import train_test_split"
   ]
  },
  {
   "cell_type": "code",
   "execution_count": 107,
   "metadata": {},
   "outputs": [],
   "source": [
    "path = r\"/Users/texin/Documents/大四下/機器學習\"\n",
    "X = pd.read_csv(path + r\"/期末報告/house-prices-advanced-regression-techniques/X_train.csv\",index_col=0)"
   ]
  },
  {
   "cell_type": "code",
   "execution_count": 104,
   "metadata": {},
   "outputs": [],
   "source": [
    "path = r\"/Users/texin/Documents/大四下/機器學習\"\n",
    "X_pred = pd.read_csv(path + r\"/期末報告/house-prices-advanced-regression-techniques/X_test.csv\",index_col=0)"
   ]
  },
  {
   "cell_type": "code",
   "execution_count": 108,
   "metadata": {},
   "outputs": [],
   "source": [
    "path = r\"/Users/texin/Documents/大四下/機器學習\"\n",
    "y = pd.read_csv(path + r\"/期末報告/house-prices-advanced-regression-techniques/y_train.csv\",index_col=0)"
   ]
  },
  {
   "cell_type": "code",
   "execution_count": 106,
   "metadata": {},
   "outputs": [],
   "source": [
    "path = r\"/Users/texin/Documents/大四下/機器學習\"\n",
    "y_pred = pd.read_csv(path + r\"/期末報告/house-prices-advanced-regression-techniques/sample_submission.csv\",index_col=0)"
   ]
  },
  {
   "cell_type": "code",
   "execution_count": 109,
   "metadata": {},
   "outputs": [
    {
     "name": "stdout",
     "output_type": "stream",
     "text": [
      "(1460, 239)\n",
      "(1459, 239)\n",
      "(1460, 1)\n",
      "(1459, 1)\n"
     ]
    }
   ],
   "source": [
    "print(X.shape)\n",
    "print(X_pred.shape)\n",
    "print(y.shape)\n",
    "print(y_pred.shape)"
   ]
  },
  {
   "cell_type": "markdown",
   "metadata": {},
   "source": [
    "# Lasso"
   ]
  },
  {
   "cell_type": "code",
   "execution_count": 110,
   "metadata": {},
   "outputs": [],
   "source": [
    "from sklearn.linear_model import LassoCV\n",
    "from sklearn.linear_model import Lasso\n",
    "from sklearn.model_selection import GridSearchCV\n",
    "from sklearn.metrics import mean_squared_error\n",
    "from sklearn.metrics import r2_score\n",
    "from sklearn.linear_model import Ridge,RidgeCV, ElasticNet, LassoCV, LassoLarsCV\n",
    "from sklearn.model_selection import cross_val_score"
   ]
  },
  {
   "cell_type": "code",
   "execution_count": 111,
   "metadata": {},
   "outputs": [
    {
     "name": "stderr",
     "output_type": "stream",
     "text": [
      "/Users/texin/opt/anaconda3/lib/python3.7/site-packages/sklearn/linear_model/_coordinate_descent.py:1088: DataConversionWarning: A column-vector y was passed when a 1d array was expected. Please change the shape of y to (n_samples, ), for example using ravel().\n",
      "  y = column_or_1d(y, warn=True)\n"
     ]
    },
    {
     "name": "stdout",
     "output_type": "stream",
     "text": [
      "最佳的alpha :  137.31376900358177\n",
      "估計係數個數 :  239\n",
      "非0的係數個數 :  83\n"
     ]
    }
   ],
   "source": [
    "# LASSO交叉检验 cv=10\n",
    "lassocv = LassoCV(alphas=None, copy_X=True, cv=10, eps=0.0001, fit_intercept=True,\n",
    "    max_iter=50000, n_alphas=1000, n_jobs=1, normalize=False, positive=False,\n",
    "    precompute='auto', random_state=None, selection='cyclic', tol=0.0001,verbose=False)\n",
    "\n",
    "lassocv.fit(X, y)\n",
    "\n",
    "\n",
    "# 最佳的alpha\n",
    "lasso_best_alpha = lassocv.alpha_\n",
    "print('最佳的alpha : ',lasso_best_alpha)\n",
    "\n",
    "# 估計係數個數\n",
    "print('估計係數個數 : ',len(lassocv.coef_ ))\n",
    "\n",
    "# 非0的係數個數\n",
    "print('非0的係數個數 : ',np.sum(lassocv.coef_ != 0))"
   ]
  },
  {
   "cell_type": "code",
   "execution_count": 37,
   "metadata": {},
   "outputs": [
    {
     "data": {
      "text/plain": [
       "[<matplotlib.lines.Line2D at 0x1a1d2ebad0>,\n",
       " <matplotlib.lines.Line2D at 0x1a1d2f3550>,\n",
       " <matplotlib.lines.Line2D at 0x1a1d2f3710>,\n",
       " <matplotlib.lines.Line2D at 0x1a1d2f38d0>,\n",
       " <matplotlib.lines.Line2D at 0x1a1d2f3a90>,\n",
       " <matplotlib.lines.Line2D at 0x1a1d2f3c50>,\n",
       " <matplotlib.lines.Line2D at 0x1a1d2f3e90>,\n",
       " <matplotlib.lines.Line2D at 0x1a1d92b050>,\n",
       " <matplotlib.lines.Line2D at 0x1a1d2f3a50>,\n",
       " <matplotlib.lines.Line2D at 0x1a1d2f3c90>]"
      ]
     },
     "execution_count": 37,
     "metadata": {},
     "output_type": "execute_result"
    },
    {
     "data": {
      "image/png": "[encoded data removed]",
      "text/plain": [
       "<Figure size 432x288 with 1 Axes>"
      ]
     },
     "metadata": {
      "needs_background": "light"
     },
     "output_type": "display_data"
    }
   ],
   "source": [
    "plt.plot(lassocv.alphas_,lassocv.mse_path_)"
   ]
  },
  {
   "cell_type": "code",
   "execution_count": 39,
   "metadata": {},
   "outputs": [
    {
     "data": {
      "text/plain": [
       "Lasso(alpha=137.31376900358177, copy_X=True, fit_intercept=True, max_iter=50000,\n",
       "      normalize=False, positive=False, precompute=False, random_state=None,\n",
       "      selection='cyclic', tol=0.0001, warm_start=False)"
      ]
     },
     "execution_count": 39,
     "metadata": {},
     "output_type": "execute_result"
    }
   ],
   "source": [
    "# 選最佳的alpha 訓練 model\n",
    "# 基於最佳lambda值建模\n",
    "lasso_model=Lasso(alpha =  lasso_best_alpha,max_iter = 50000,tol = 0.0001, normalize=False)\n",
    "lasso_model.fit(X,y)"
   ]
  },
  {
   "cell_type": "code",
   "execution_count": 199,
   "metadata": {},
   "outputs": [],
   "source": [
    "## predict_y\n",
    "lasso_pred=lassocv.predict(X_pred)\n",
    "lasso_pred=lasso_pred.flatten()"
   ]
  },
  {
   "cell_type": "code",
   "execution_count": 201,
   "metadata": {},
   "outputs": [
    {
     "name": "stdout",
     "output_type": "stream",
     "text": [
      "MSLE为： 0.17692630300263928\n"
     ]
    }
   ],
   "source": [
    "# 對答案\n",
    "print('MSLE为：',MSLE(y_pred,lasso_pred))  #Rmse"
   ]
  },
  {
   "cell_type": "markdown",
   "metadata": {},
   "source": [
    "# ridge"
   ]
  },
  {
   "cell_type": "code",
   "execution_count": 44,
   "metadata": {},
   "outputs": [],
   "source": [
    "from sklearn.linear_model import RidgeCV"
   ]
  },
  {
   "cell_type": "code",
   "execution_count": 139,
   "metadata": {},
   "outputs": [
    {
     "name": "stdout",
     "output_type": "stream",
     "text": [
      "交叉验证最佳alpha值 20.0\n"
     ]
    }
   ],
   "source": [
    "alphas=[1e-3, 1e-2, 1e-1, 1.0, 10.0, 20,30,40 ,50 ,100]\n",
    "ridgecv = RidgeCV(alphas=alphas,store_cv_values=True)  # 通过RidgeCV可以设置多个参数值，算法使用交叉验证获取最佳参数值\n",
    "ridgecv.fit(X, y)   # 线性回归建模\n",
    "# print('系数矩阵:\\n',model.coef_)\n",
    "# print('线性回归模型:\\n',model)\n",
    "print('交叉验证最佳alpha值',ridgecv.alpha_)  # 只有在使用RidgeCV算法时才有效\n",
    "# 使用模型预测\n",
    "#y_predicted = model.predict(X_test)\n",
    "#plt.scatter(X_train, y_train, marker='o',color='green',label='训练数据')\n"
   ]
  },
  {
   "cell_type": "code",
   "execution_count": 132,
   "metadata": {
    "scrolled": true
   },
   "outputs": [
    {
     "name": "stdout",
     "output_type": "stream",
     "text": [
      "alphas: [0.001, 0.01, 0.1, 1.0, 10.0, 20, 50, 100]\n",
      "CV MSE: [[1.28252030e+09 1.27779483e+09 1.24488500e+09 1.18611801e+09\n",
      "  1.16431581e+09 1.16208622e+09 1.17230817e+09 1.18752195e+09]]\n",
      "Best alpha using built-in RidgeCV: 20.000000\n"
     ]
    }
   ],
   "source": [
    "cv_mse = np.mean(ridgecv.cv_values_, axis=0)\n",
    "print(\"alphas: %s\" % alphas)\n",
    "print(\"CV MSE: %s\" % cv_mse)\n",
    "print(\"Best alpha using built-in RidgeCV: %f\" % ridgecv.alpha_)"
   ]
  },
  {
   "cell_type": "code",
   "execution_count": 145,
   "metadata": {},
   "outputs": [
    {
     "data": {
      "text/plain": [
       "Ridge(alpha=20.0, copy_X=True, fit_intercept=True, max_iter=50000,\n",
       "      normalize=False, random_state=None, solver='auto', tol=0.0001)"
      ]
     },
     "execution_count": 145,
     "metadata": {},
     "output_type": "execute_result"
    }
   ],
   "source": [
    "# generate the prediction using the best model\n",
    "ridge = Ridge(alpha=ridgecv.alpha_,max_iter = 50000,tol = 0.0001)\n",
    "ridge.fit(X, y)"
   ]
  },
  {
   "cell_type": "code",
   "execution_count": 148,
   "metadata": {},
   "outputs": [],
   "source": [
    "## predict_y\n",
    "ridge_pred=ridge.predict(X_pred)\n",
    "ridge_pred=ridge_pred.flatten()"
   ]
  },
  {
   "cell_type": "code",
   "execution_count": 196,
   "metadata": {},
   "outputs": [],
   "source": [
    "from sklearn.metrics import mean_squared_log_error as MSLE"
   ]
  },
  {
   "cell_type": "code",
   "execution_count": 197,
   "metadata": {},
   "outputs": [
    {
     "name": "stdout",
     "output_type": "stream",
     "text": [
      "MSLE为： 0.19023160271116712\n"
     ]
    }
   ],
   "source": [
    "# 對答案\n",
    "print('MSLE为：',MSLE(y_pred,ridge_pred))  "
   ]
  },
  {
   "cell_type": "markdown",
   "metadata": {},
   "source": [
    "# Decision tree"
   ]
  },
  {
   "cell_type": "code",
   "execution_count": 168,
   "metadata": {},
   "outputs": [],
   "source": [
    "from sklearn.tree import DecisionTreeRegressor"
   ]
  },
  {
   "cell_type": "code",
   "execution_count": 179,
   "metadata": {},
   "outputs": [],
   "source": [
    "dt_gsc = GridSearchCV(DecisionTreeRegressor(random_state=0),\n",
    "              param_grid={\n",
    "                  'min_samples_split': range(2, 10),\n",
    "                  'max_depth': range(3,7)},\n",
    "              scoring='neg_mean_squared_error', verbose=0,n_jobs=-1, cv=5, refit=True)"
   ]
  },
  {
   "cell_type": "code",
   "execution_count": 180,
   "metadata": {},
   "outputs": [
    {
     "data": {
      "text/plain": [
       "{'max_depth': 5, 'min_samples_split': 2}"
      ]
     },
     "execution_count": 180,
     "metadata": {},
     "output_type": "execute_result"
    }
   ],
   "source": [
    "dt_gsc.fit(X, y)\n",
    "dt_gsc.best_params_"
   ]
  },
  {
   "cell_type": "code",
   "execution_count": 183,
   "metadata": {},
   "outputs": [],
   "source": [
    "dt = DecisionTreeRegressor(random_state=0, criterion=\"mse\",max_depth=dt_gsc.best_params_[\"max_depth\"],\n",
    "                           min_samples_split=dt_gsc.best_params_[\"min_samples_split\"])\n",
    "dt_scores = cross_val_score(dt, X, y, cv=10,scoring='neg_mean_squared_error')\n"
   ]
  },
  {
   "cell_type": "code",
   "execution_count": 184,
   "metadata": {},
   "outputs": [
    {
     "name": "stdout",
     "output_type": "stream",
     "text": [
      "-1788594824.531435\n"
     ]
    }
   ],
   "source": [
    "print(dt_scores.mean())"
   ]
  },
  {
   "cell_type": "code",
   "execution_count": 185,
   "metadata": {},
   "outputs": [],
   "source": [
    "dt_fit = dt.fit(X, y)"
   ]
  },
  {
   "cell_type": "code",
   "execution_count": 193,
   "metadata": {},
   "outputs": [],
   "source": [
    "## predict_y\n",
    "\n",
    "dt_pred=dt.predict(X_pred)\n",
    "dt_pred=dt_pred.flatten()\n"
   ]
  },
  {
   "cell_type": "code",
   "execution_count": 202,
   "metadata": {},
   "outputs": [
    {
     "name": "stdout",
     "output_type": "stream",
     "text": [
      "MSLE为： 0.12855567127666576\n"
     ]
    }
   ],
   "source": [
    "print('MSLE为：',MSLE(y_pred,dt_pred)) "
   ]
  },
  {
   "cell_type": "markdown",
   "metadata": {},
   "source": [
    "# Random forest"
   ]
  },
  {
   "cell_type": "code",
   "execution_count": 150,
   "metadata": {},
   "outputs": [],
   "source": [
    "from sklearn.model_selection import cross_val_score, GridSearchCV\n",
    "from sklearn.ensemble import RandomForestRegressor\n",
    "from sklearn.preprocessing import MinMaxScaler"
   ]
  },
  {
   "cell_type": "code",
   "execution_count": 157,
   "metadata": {},
   "outputs": [],
   "source": [
    "# Perform Grid-Search\n",
    "gsc = GridSearchCV(\n",
    "    estimator=RandomForestRegressor(),param_grid={\n",
    "            'max_depth': range(3,7),\n",
    "            'n_estimators': (10, 50, 100, 1000)\n",
    "        }\n",
    "        ,cv=5, scoring='neg_mean_squared_error', verbose=0,n_jobs=-1)"
   ]
  },
  {
   "cell_type": "code",
   "execution_count": 158,
   "metadata": {
    "scrolled": true
   },
   "outputs": [
    {
     "name": "stderr",
     "output_type": "stream",
     "text": [
      "/Users/texin/opt/anaconda3/lib/python3.7/site-packages/sklearn/model_selection/_search.py:739: DataConversionWarning: A column-vector y was passed when a 1d array was expected. Please change the shape of y to (n_samples,), for example using ravel().\n",
      "  self.best_estimator_.fit(X, y, **fit_params)\n"
     ]
    }
   ],
   "source": [
    "grid_result = gsc.fit(X, y)\n",
    "best_params = grid_result.best_params_"
   ]
  },
  {
   "cell_type": "code",
   "execution_count": 160,
   "metadata": {},
   "outputs": [
    {
     "data": {
      "text/plain": [
       "{'max_depth': 6, 'n_estimators': 1000}"
      ]
     },
     "execution_count": 160,
     "metadata": {},
     "output_type": "execute_result"
    }
   ],
   "source": [
    "best_params"
   ]
  },
  {
   "cell_type": "code",
   "execution_count": 164,
   "metadata": {
    "scrolled": true
   },
   "outputs": [
    {
     "name": "stderr",
     "output_type": "stream",
     "text": [
      "/Users/texin/opt/anaconda3/lib/python3.7/site-packages/sklearn/model_selection/_validation.py:515: DataConversionWarning: A column-vector y was passed when a 1d array was expected. Please change the shape of y to (n_samples,), for example using ravel().\n",
      "  estimator.fit(X_train, y_train, **fit_params)\n",
      "/Users/texin/opt/anaconda3/lib/python3.7/site-packages/sklearn/model_selection/_validation.py:515: DataConversionWarning: A column-vector y was passed when a 1d array was expected. Please change the shape of y to (n_samples,), for example using ravel().\n",
      "  estimator.fit(X_train, y_train, **fit_params)\n",
      "/Users/texin/opt/anaconda3/lib/python3.7/site-packages/sklearn/model_selection/_validation.py:515: DataConversionWarning: A column-vector y was passed when a 1d array was expected. Please change the shape of y to (n_samples,), for example using ravel().\n",
      "  estimator.fit(X_train, y_train, **fit_params)\n",
      "/Users/texin/opt/anaconda3/lib/python3.7/site-packages/sklearn/model_selection/_validation.py:515: DataConversionWarning: A column-vector y was passed when a 1d array was expected. Please change the shape of y to (n_samples,), for example using ravel().\n",
      "  estimator.fit(X_train, y_train, **fit_params)\n",
      "/Users/texin/opt/anaconda3/lib/python3.7/site-packages/sklearn/model_selection/_validation.py:515: DataConversionWarning: A column-vector y was passed when a 1d array was expected. Please change the shape of y to (n_samples,), for example using ravel().\n",
      "  estimator.fit(X_train, y_train, **fit_params)\n",
      "/Users/texin/opt/anaconda3/lib/python3.7/site-packages/sklearn/model_selection/_validation.py:515: DataConversionWarning: A column-vector y was passed when a 1d array was expected. Please change the shape of y to (n_samples,), for example using ravel().\n",
      "  estimator.fit(X_train, y_train, **fit_params)\n",
      "/Users/texin/opt/anaconda3/lib/python3.7/site-packages/sklearn/model_selection/_validation.py:515: DataConversionWarning: A column-vector y was passed when a 1d array was expected. Please change the shape of y to (n_samples,), for example using ravel().\n",
      "  estimator.fit(X_train, y_train, **fit_params)\n",
      "/Users/texin/opt/anaconda3/lib/python3.7/site-packages/sklearn/model_selection/_validation.py:515: DataConversionWarning: A column-vector y was passed when a 1d array was expected. Please change the shape of y to (n_samples,), for example using ravel().\n",
      "  estimator.fit(X_train, y_train, **fit_params)\n",
      "/Users/texin/opt/anaconda3/lib/python3.7/site-packages/sklearn/model_selection/_validation.py:515: DataConversionWarning: A column-vector y was passed when a 1d array was expected. Please change the shape of y to (n_samples,), for example using ravel().\n",
      "  estimator.fit(X_train, y_train, **fit_params)\n",
      "/Users/texin/opt/anaconda3/lib/python3.7/site-packages/sklearn/model_selection/_validation.py:515: DataConversionWarning: A column-vector y was passed when a 1d array was expected. Please change the shape of y to (n_samples,), for example using ravel().\n",
      "  estimator.fit(X_train, y_train, **fit_params)\n"
     ]
    }
   ],
   "source": [
    "rfr = RandomForestRegressor(max_depth=best_params[\"max_depth\"], n_estimators=best_params[\"n_estimators\"],\n",
    "                            random_state=False, verbose=False)\n",
    "# Perform K-Fold CV\n",
    "scores = cross_val_score(rfr, X, y, cv=10, scoring='neg_mean_squared_error')"
   ]
  },
  {
   "cell_type": "code",
   "execution_count": 165,
   "metadata": {
    "scrolled": true
   },
   "outputs": [
    {
     "name": "stdout",
     "output_type": "stream",
     "text": [
      "-912703207.2489941\n"
     ]
    }
   ],
   "source": [
    "print(scores.mean())"
   ]
  },
  {
   "cell_type": "code",
   "execution_count": 167,
   "metadata": {},
   "outputs": [
    {
     "name": "stderr",
     "output_type": "stream",
     "text": [
      "/Users/texin/opt/anaconda3/lib/python3.7/site-packages/ipykernel_launcher.py:1: DataConversionWarning: A column-vector y was passed when a 1d array was expected. Please change the shape of y to (n_samples,), for example using ravel().\n",
      "  \"\"\"Entry point for launching an IPython kernel.\n"
     ]
    },
    {
     "data": {
      "text/plain": [
       "RandomForestRegressor(bootstrap=True, ccp_alpha=0.0, criterion='mse',\n",
       "                      max_depth=6, max_features='auto', max_leaf_nodes=None,\n",
       "                      max_samples=None, min_impurity_decrease=0.0,\n",
       "                      min_impurity_split=None, min_samples_leaf=1,\n",
       "                      min_samples_split=2, min_weight_fraction_leaf=0.0,\n",
       "                      n_estimators=1000, n_jobs=None, oob_score=False,\n",
       "                      random_state=False, verbose=False, warm_start=False)"
      ]
     },
     "execution_count": 167,
     "metadata": {},
     "output_type": "execute_result"
    }
   ],
   "source": [
    "rfr.fit(X, y)"
   ]
  },
  {
   "cell_type": "code",
   "execution_count": 191,
   "metadata": {},
   "outputs": [],
   "source": [
    "## predict_y\n",
    "\n",
    "rfr_pred=rfr.predict(X_pred)\n",
    "rfr_pred=rfr_pred.flatten()"
   ]
  },
  {
   "cell_type": "code",
   "execution_count": 203,
   "metadata": {},
   "outputs": [
    {
     "name": "stdout",
     "output_type": "stream",
     "text": [
      "MSLE为： 0.1271474452659243\n"
     ]
    }
   ],
   "source": [
    "print('MSLE为：',MSLE(y_pred,rfr_pred)) "
   ]
  },
  {
   "cell_type": "code",
   "execution_count": null,
   "metadata": {},
   "outputs": [],
   "source": []
  }
 ],
 "metadata": {
  "kernelspec": {
   "display_name": "Python 3",
   "language": "python",
   "name": "python3"
  },
  "language_info": {
   "codemirror_mode": {
    "name": "ipython",
    "version": 3
   },
   "file_extension": ".py",
   "mimetype": "text/x-python",
   "name": "python",
   "nbconvert_exporter": "python",
   "pygments_lexer": "ipython3",
   "version": "3.7.6"
  }
 },
 "nbformat": 4,
 "nbformat_minor": 4
}
