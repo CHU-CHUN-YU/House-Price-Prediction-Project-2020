{
 "cells": [
  {
   "cell_type": "code",
   "execution_count": 1,
   "metadata": {},
   "outputs": [
    {
     "data": {
      "application/javascript": [
       "IPython.notebook.set_autosave_interval(40000)"
      ]
     },
     "metadata": {},
     "output_type": "display_data"
    },
    {
     "name": "stdout",
     "output_type": "stream",
     "text": [
      "Autosaving every 40 seconds\n"
     ]
    }
   ],
   "source": [
    "import pandas as pd\n",
    "import numpy as np\n",
    "from numpy import random\n",
    "import pickle\n",
    "import seaborn as sns\n",
    "import sklearn\n",
    "import matplotlib.pyplot as plt\n",
    "from sklearn.decomposition import PCA\n",
    "#%matplotlib inline\n",
    "%autosave 40\n",
    "sns.set(color_codes=True)"
   ]
  },
  {
   "cell_type": "code",
   "execution_count": 2,
   "metadata": {},
   "outputs": [],
   "source": [
    "##### ridge #####\n",
    "from sklearn.datasets import load_diabetes\n",
    "from sklearn.linear_model import RidgeCV, Ridge\n",
    "\n",
    "##### metric #####\n",
    "from sklearn.metrics import mean_squared_log_error as MSLE"
   ]
  },
  {
   "cell_type": "code",
   "execution_count": 3,
   "metadata": {},
   "outputs": [],
   "source": [
    "##### cate / cont #####\n",
    "with open(\"./variable_ls/data_cate_num_dum_varname.lst\", 'rb') as f:\n",
    "    ord_var = pickle.load(f)\n",
    "    ord_var = list(ord_var)\n",
    "with open(\"./variable_ls/data_cate_dum_varname.lst\", 'rb') as f:\n",
    "    nom_var = pickle.load(f)\n",
    "    nom_var = list(nom_var)\n",
    "with open(\"./variable_ls/data_cont_varname.lst\", 'rb') as f:\n",
    "    cont_var = pickle.load(f)\n",
    "    cont_var = list(cont_var)"
   ]
  },
  {
   "cell_type": "code",
   "execution_count": 4,
   "metadata": {},
   "outputs": [],
   "source": [
    "##### data #####\n",
    "train = pd.read_csv(\"./house-prices-advanced-regression-techniques/train.csv\")\n",
    "SalePrice = train['SalePrice']\n",
    "\n",
    "train_dt = pd.read_csv(\"./train_3NN_pca.csv\")\n",
    "test_dt = pd.read_csv(\"./test_3NN_pca.csv\")\n",
    "\n",
    "test_ans = pd.read_csv(\"./house-prices-advanced-regression-techniques/sample_submission.csv\")['SalePrice']"
   ]
  },
  {
   "cell_type": "code",
   "execution_count": 5,
   "metadata": {},
   "outputs": [],
   "source": [
    "alpha = [1e-5, 1e-3, 1e-1, 1, 5, 10]\n",
    "random.seed(123)\n",
    "ridge = RidgeCV(alphas=alpha, normalize=False, store_cv_values=True)\n",
    "mdl = ridge.fit(train_dt, SalePrice)"
   ]
  },
  {
   "cell_type": "code",
   "execution_count": 6,
   "metadata": {},
   "outputs": [],
   "source": [
    "cv_mse = np.mean(mdl.cv_values_, axis=0)"
   ]
  },
  {
   "cell_type": "code",
   "execution_count": 7,
   "metadata": {},
   "outputs": [
    {
     "name": "stdout",
     "output_type": "stream",
     "text": [
      "(1459,)\n",
      "(1459,)\n"
     ]
    }
   ],
   "source": [
    "##### generate the prediction using the best model #####\n",
    "opt_alpha = mdl.alpha_\n",
    "predictor = Ridge(alpha=opt_alpha)\n",
    "predictor.fit(train_dt, SalePrice)\n",
    "pred = predictor.predict(test_dt)\n",
    "y_pred = np.array(pred)\n",
    "y_true = np.array(test_ans)\n",
    "print(y_true.shape)\n",
    "print(y_pred.shape)"
   ]
  },
  {
   "cell_type": "code",
   "execution_count": 8,
   "metadata": {},
   "outputs": [],
   "source": [
    "for i in range(y_pred.shape[0]):\n",
    "    if y_pred[i] < 0:\n",
    "        y_pred[i] = 0"
   ]
  },
  {
   "cell_type": "code",
   "execution_count": 9,
   "metadata": {},
   "outputs": [
    {
     "data": {
      "text/plain": [
       "0.29577990538191173"
      ]
     },
     "execution_count": 9,
     "metadata": {},
     "output_type": "execute_result"
    }
   ],
   "source": [
    "##### performance #####\n",
    "MSLE(y_true, y_pred)"
   ]
  }
 ],
 "metadata": {
  "kernelspec": {
   "display_name": "Python 3",
   "language": "python",
   "name": "python3"
  },
  "language_info": {
   "codemirror_mode": {
    "name": "ipython",
    "version": 3
   },
   "file_extension": ".py",
   "mimetype": "text/x-python",
   "name": "python",
   "nbconvert_exporter": "python",
   "pygments_lexer": "ipython3",
   "version": "3.7.6"
  }
 },
 "nbformat": 4,
 "nbformat_minor": 2
}
